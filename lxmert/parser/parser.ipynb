{
 "cells": [
  {
   "cell_type": "code",
   "execution_count": 1,
   "metadata": {},
   "outputs": [],
   "source": [
    "import json"
   ]
  },
  {
   "cell_type": "code",
   "execution_count": 23,
   "metadata": {},
   "outputs": [],
   "source": [
    "trainlol = json.load(open(\"/scratch/tgokhale/VQA_LOL_ECCV/train_vqa_lol_varlen.json\"))"
   ]
  },
  {
   "cell_type": "code",
   "execution_count": 24,
   "metadata": {},
   "outputs": [],
   "source": [
    "traincwl = json.load(open(\"/scratch/tgokhale/VQA_LOL_ECCV/train_vqa_objcap_varlen.json\"))"
   ]
  },
  {
   "cell_type": "code",
   "execution_count": 26,
   "metadata": {},
   "outputs": [],
   "source": [
    "train = trainlol+traincwl"
   ]
  },
  {
   "cell_type": "code",
   "execution_count": 25,
   "metadata": {},
   "outputs": [],
   "source": [
    "vallol = json.load(open(\"/scratch/tgokhale/VQA_LOL_ECCV/minival_vqa_lol_varlen.json\"))\n",
    "valcwl = json.load(open(\"/scratch/tgokhale/VQA_LOL_ECCV/minival_vqa_lol_varlen.json\"))"
   ]
  },
  {
   "cell_type": "code",
   "execution_count": 27,
   "metadata": {},
   "outputs": [],
   "source": [
    "val = vallol+valcwl"
   ]
  },
  {
   "cell_type": "code",
   "execution_count": 28,
   "metadata": {},
   "outputs": [],
   "source": [
    "json.dump(train,open(\"data/train.json\",\"w\"))"
   ]
  },
  {
   "cell_type": "code",
   "execution_count": 29,
   "metadata": {},
   "outputs": [],
   "source": [
    "json.dump(val,open(\"data/val.json\",\"w\"))"
   ]
  },
  {
   "cell_type": "code",
   "execution_count": 30,
   "metadata": {},
   "outputs": [],
   "source": [
    "item = val[100]"
   ]
  },
  {
   "cell_type": "code",
   "execution_count": 31,
   "metadata": {},
   "outputs": [
    {
     "data": {
      "text/plain": [
       "{'answer_type': 'yes/no',\n",
       " 'img_id': 'COCO_val2014_000000132136',\n",
       " 'label': {'no': 1},\n",
       " 'question_id': 132136015,\n",
       " 'question_type': 'is it',\n",
       " 'sent': 'Is this the beach and Are these balloons and Are not these balloons  ?',\n",
       " 'q_list': ['Is this the beach', 'Are these balloons', 'Are these balloons'],\n",
       " 'q_label_list': [{'yes': 1}, {'no': 1}, {'no': 1}],\n",
       " 'r_list': ['Is this the beach',\n",
       "  'Are these balloons',\n",
       "  'Are not these balloons '],\n",
       " 'r_label_list': [{'yes': 1}, {'no': 1}, {'yes': 1}],\n",
       " 'n': 3,\n",
       " 'op': 'and'}"
      ]
     },
     "execution_count": 31,
     "metadata": {},
     "output_type": "execute_result"
    }
   ],
   "source": [
    "item"
   ]
  },
  {
   "cell_type": "code",
   "execution_count": 18,
   "metadata": {},
   "outputs": [],
   "source": [
    "def get_matched(answer_tokens,ind,words_tokens):\n",
    "    matched = False\n",
    "    curr_match = False\n",
    "    curr_ans_len = -1\n",
    "    for ans_i in range(len(answer_tokens)):\n",
    "        curr_match = False\n",
    "        curr_ans_len = len(answer_tokens[ans_i])\n",
    "        for token_A,token_B in zip(answer_tokens[ans_i],words_tokens[ind:ind+curr_ans_len]):\n",
    "            if token_A==token_B:\n",
    "                curr_match=True\n",
    "            else:\n",
    "                curr_match=False\n",
    "                break\n",
    "        if curr_match:\n",
    "            matched=True\n",
    "            break\n",
    "    return curr_match,curr_ans_len\n",
    "\n",
    "def generate_bio(text,answers):\n",
    "    words_tokens = text.lower().split(' ')\n",
    "    answer_tokens = [ answer.lower().split(' ') for answer in answers]\n",
    "    tagged_tokens = []\n",
    "    ind = 0\n",
    "    while len(tagged_tokens) <= len(words_tokens):\n",
    "        matched,len_ans = get_matched(answer_tokens,ind,words_tokens)\n",
    "        if matched:\n",
    "            tagged_tokens.append('B-ANS')\n",
    "            num_of_is = ['I-ANS']*(len_ans-1)\n",
    "            tagged_tokens.extend(num_of_is)\n",
    "            ind += len_ans\n",
    "        else:\n",
    "            ind+=1\n",
    "            tagged_tokens.append('O')\n",
    "    tagged_tokens.pop(-1)\n",
    "    if len(words_tokens) != len(tagged_tokens):\n",
    "        print(text,words_tokens,tagged_tokens,len(words_tokens)-len(tagged_tokens))\n",
    "    return tagged_tokens"
   ]
  },
  {
   "cell_type": "code",
   "execution_count": 33,
   "metadata": {},
   "outputs": [
    {
     "data": {
      "text/plain": [
       "['B-ANS',\n",
       " 'I-ANS',\n",
       " 'I-ANS',\n",
       " 'I-ANS',\n",
       " 'O',\n",
       " 'B-ANS',\n",
       " 'I-ANS',\n",
       " 'I-ANS',\n",
       " 'O',\n",
       " 'B-ANS',\n",
       " 'I-ANS',\n",
       " 'I-ANS',\n",
       " 'I-ANS',\n",
       " 'I-ANS',\n",
       " 'O',\n",
       " 'O']"
      ]
     },
     "execution_count": 33,
     "metadata": {},
     "output_type": "execute_result"
    }
   ],
   "source": [
    "text = item['sent']\n",
    "text = text.replace(\"?\",\" ?\")\n",
    "generate_bio(text,item[\"r_list\"])"
   ]
  },
  {
   "cell_type": "code",
   "execution_count": null,
   "metadata": {},
   "outputs": [],
   "source": []
  }
 ],
 "metadata": {
  "kernelspec": {
   "display_name": "Python [conda env:nr2c]",
   "language": "python",
   "name": "conda-env-nr2c-py"
  },
  "language_info": {
   "codemirror_mode": {
    "name": "ipython",
    "version": 3
   },
   "file_extension": ".py",
   "mimetype": "text/x-python",
   "name": "python",
   "nbconvert_exporter": "python",
   "pygments_lexer": "ipython3",
   "version": "3.6.8"
  }
 },
 "nbformat": 4,
 "nbformat_minor": 2
}
